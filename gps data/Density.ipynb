{
 "metadata": {
  "name": "",
  "signature": "sha256:f5de6c8bf5403c15962e61f3be3363026ef305d94bb8fd4e18b7cf8bbc8d790a"
 },
 "nbformat": 3,
 "nbformat_minor": 0,
 "worksheets": [
  {
   "cells": [
    {
     "cell_type": "code",
     "collapsed": false,
     "input": [
      "f = open(\"000/Trajectory/coord/1.txt\", \"r\")"
     ],
     "language": "python",
     "metadata": {},
     "outputs": [],
     "prompt_number": 93
    },
    {
     "cell_type": "code",
     "collapsed": false,
     "input": [
      "lat = []\n",
      "lon = []"
     ],
     "language": "python",
     "metadata": {},
     "outputs": [],
     "prompt_number": 94
    },
    {
     "cell_type": "code",
     "collapsed": false,
     "input": [
      "for i in f:\n",
      "    coord = i.split(\",\")\n",
      "    lat.append(float(coord[0]))\n",
      "    lon.append(float(coord[1]))\n",
      "f.close()"
     ],
     "language": "python",
     "metadata": {},
     "outputs": [],
     "prompt_number": 95
    },
    {
     "cell_type": "code",
     "collapsed": false,
     "input": [
      "# Lets calculate the distance between two locations\n",
      "import math\n",
      "\n",
      "R = 6371000\n",
      "phi1 = math.radians(lat[0])\n",
      "phi2 = math.radians(lat[1])\n",
      "dphi = math.radians(lat[1] - lat[0])\n",
      "dl   = math.radians(lon[1] - lon[0])\n",
      "a = (math.sin(dphi/2)**2) + (math.cos(phi1) * math.cos(phi2) * math.sin(dl/2)**2)\n",
      "c = 2 * math.atan2(math.sqrt(a), math.sqrt(1-a))\n",
      "d = R * c\n",
      "print(d)"
     ],
     "language": "python",
     "metadata": {},
     "outputs": [
      {
       "output_type": "stream",
       "stream": "stdout",
       "text": [
        "2.8312990440656636\n"
       ]
      }
     ],
     "prompt_number": 96
    },
    {
     "cell_type": "code",
     "collapsed": false,
     "input": [
      "# Onward to maximum distance calculation\n",
      "\n",
      "i = 0\n",
      "max_distance = 0\n",
      "while i < len(lat) - 1:\n",
      "    R = 6371000\n",
      "    phi1 = math.radians(lat[i])\n",
      "    phi2 = math.radians(lat[i+1])\n",
      "    dphi = math.radians(lat[i+1] - lat[i])\n",
      "    dl   = math.radians(lon[i+1] - lon[i])\n",
      "    a = (math.sin(dphi/2)**2) + (math.cos(phi1) * math.cos(phi2) * math.sin(dl/2)**2)\n",
      "    c = 2 * math.atan2(math.sqrt(a), math.sqrt(1-a))\n",
      "    d = R * c\n",
      "    if d > max_distance:\n",
      "        max_distance = d\n",
      "    i += 1\n",
      "\n",
      "print(max_distance)"
     ],
     "language": "python",
     "metadata": {},
     "outputs": [
      {
       "output_type": "stream",
       "stream": "stdout",
       "text": [
        "1817.4884822721574\n"
       ]
      }
     ],
     "prompt_number": 97
    },
    {
     "cell_type": "code",
     "collapsed": false,
     "input": [
      "f = open(\"000/Trajectory/coord/distance.txt\", \"a\")\n",
      "fno = 0\n",
      "contents = str(fno) + \",\" + str(max_distance) + \"\\n\"\n",
      "f.write(contents)\n",
      "f.close()"
     ],
     "language": "python",
     "metadata": {},
     "outputs": [],
     "prompt_number": 107
    },
    {
     "cell_type": "code",
     "collapsed": false,
     "input": [
      "# Find max distance of all the files in the coords folder and put the results in distance.txt\n",
      "\n",
      "import math\n",
      "import os\n",
      "\n",
      "path = os.getcwd()\n",
      "folder = \"010\"\n",
      "os.chdir(path + \"/\" + folder + \"/Trajectory/coord/\")\n",
      "nof = len(os.listdir())\n",
      "os.chdir(path)\n",
      "\n",
      "max_distance = []\n",
      "\n",
      "for fno in range(1, nof+1):\n",
      "    filename = str(fno) + \".txt\"\n",
      "    f = open(folder + \"/Trajectory/coord/\" + filename, \"r\")\n",
      "    lat = []\n",
      "    lon = []\n",
      "\n",
      "    for i in f:\n",
      "        coord = i.split(\",\")\n",
      "        lat.append(float(coord[0]))\n",
      "        lon.append(float(coord[1]))\n",
      "    \n",
      "    f.close()\n",
      "    \n",
      "    i = 0\n",
      "    max_distance.append(0)\n",
      "    while i < len(lat) - 1:\n",
      "        R = 6371000\n",
      "        phi1 = math.radians(lat[i])\n",
      "        phi2 = math.radians(lat[i+1])\n",
      "        dphi = math.radians(lat[i+1] - lat[i])\n",
      "        dl   = math.radians(lon[i+1] - lon[i])\n",
      "        a = (math.sin(dphi/2)**2) + (math.cos(phi1) * math.cos(phi2) * math.sin(dl/2)**2)\n",
      "        c = 2 * math.atan2(math.sqrt(a), math.sqrt(1-a))\n",
      "        d = R * c\n",
      "        if d > max_distance[fno-1]:\n",
      "            max_distance[fno-1] = d\n",
      "        i += 1\n",
      "\n",
      "f = open(folder + \"/Trajectory/coord/distance.txt\", \"w\")\n",
      "fno = 0\n",
      "\n",
      "while fno < len(max_distance):\n",
      "    contents = str(fno+1) + \",\" + str(max_distance[fno]) + \"\\n\"\n",
      "    f.write(contents)\n",
      "    fno += 1\n",
      "    \n",
      "f.close()\n",
      "\n",
      "print(max(max_distance))"
     ],
     "language": "python",
     "metadata": {},
     "outputs": [
      {
       "output_type": "stream",
       "stream": "stdout",
       "text": [
        "1328458.9302983524\n"
       ]
      }
     ],
     "prompt_number": 128
    },
    {
     "cell_type": "code",
     "collapsed": false,
     "input": [
      "def get_minutes(t1, t2):\n",
      "    x = t1.split(\":\")\n",
      "    y = t2.split(\":\")\n",
      "    h1 = int(x[0])\n",
      "    h2 = int(y[0])\n",
      "    m1 = int(x[1])\n",
      "    m2 = int(y[1])\n",
      "    min_diff = m2 - m1\n",
      "    hour_diff = (h2 - h1) * 60\n",
      "    total_min = hour_diff + min_diff\n",
      "    return total_min\n",
      "\n",
      "print(get_minutes(\"02:53:10\",\"03:72:10\"))"
     ],
     "language": "python",
     "metadata": {},
     "outputs": [
      {
       "output_type": "stream",
       "stream": "stdout",
       "text": [
        "59\n"
       ]
      }
     ],
     "prompt_number": 4
    }
   ],
   "metadata": {}
  }
 ]
}