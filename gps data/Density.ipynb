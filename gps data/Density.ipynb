{
 "metadata": {
  "name": "",
  "signature": "sha256:38d2b0691eedc7f912659555daafabe5334ebfaa6b703dfdb75e9f6fd0d0ea42"
 },
 "nbformat": 3,
 "nbformat_minor": 0,
 "worksheets": [
  {
   "cells": [
    {
     "cell_type": "code",
     "collapsed": false,
     "input": [
      "f = open(\"000/Trajectory/coord/1.txt\", \"r\")"
     ],
     "language": "python",
     "metadata": {},
     "outputs": [],
     "prompt_number": 93
    },
    {
     "cell_type": "code",
     "collapsed": false,
     "input": [
      "lat = []\n",
      "lon = []"
     ],
     "language": "python",
     "metadata": {},
     "outputs": [],
     "prompt_number": 94
    },
    {
     "cell_type": "code",
     "collapsed": false,
     "input": [
      "for i in f:\n",
      "    coord = i.split(\",\")\n",
      "    lat.append(float(coord[0]))\n",
      "    lon.append(float(coord[1]))\n",
      "f.close()"
     ],
     "language": "python",
     "metadata": {},
     "outputs": [],
     "prompt_number": 95
    },
    {
     "cell_type": "code",
     "collapsed": false,
     "input": [
      "# Lets calculate the distance between two locations\n",
      "import math\n",
      "\n",
      "R = 6371000\n",
      "phi1 = math.radians(lat[0])\n",
      "phi2 = math.radians(lat[1])\n",
      "dphi = math.radians(lat[1] - lat[0])\n",
      "dl   = math.radians(lon[1] - lon[0])\n",
      "a = (math.sin(dphi/2)**2) + (math.cos(phi1) * math.cos(phi2) * math.sin(dl/2)**2)\n",
      "c = 2 * math.atan2(math.sqrt(a), math.sqrt(1-a))\n",
      "d = R * c\n",
      "print(d)"
     ],
     "language": "python",
     "metadata": {},
     "outputs": [
      {
       "output_type": "stream",
       "stream": "stdout",
       "text": [
        "2.8312990440656636\n"
       ]
      }
     ],
     "prompt_number": 96
    },
    {
     "cell_type": "code",
     "collapsed": false,
     "input": [
      "# Onward to maximum distance calculation\n",
      "\n",
      "i = 0\n",
      "max_distance = 0\n",
      "while i < len(lat) - 1:\n",
      "    R = 6371000\n",
      "    phi1 = math.radians(lat[i])\n",
      "    phi2 = math.radians(lat[i+1])\n",
      "    dphi = math.radians(lat[i+1] - lat[i])\n",
      "    dl   = math.radians(lon[i+1] - lon[i])\n",
      "    a = (math.sin(dphi/2)**2) + (math.cos(phi1) * math.cos(phi2) * math.sin(dl/2)**2)\n",
      "    c = 2 * math.atan2(math.sqrt(a), math.sqrt(1-a))\n",
      "    d = R * c\n",
      "    if d > max_distance:\n",
      "        max_distance = d\n",
      "    i += 1\n",
      "\n",
      "print(max_distance)"
     ],
     "language": "python",
     "metadata": {},
     "outputs": [
      {
       "output_type": "stream",
       "stream": "stdout",
       "text": [
        "1817.4884822721574\n"
       ]
      }
     ],
     "prompt_number": 97
    },
    {
     "cell_type": "code",
     "collapsed": false,
     "input": [
      "f = open(\"000/Trajectory/coord/distance.txt\", \"a\")\n",
      "fno = 0\n",
      "contents = str(fno) + \",\" + str(max_distance) + \"\\n\"\n",
      "f.write(contents)\n",
      "f.close()"
     ],
     "language": "python",
     "metadata": {},
     "outputs": [],
     "prompt_number": 107
    },
    {
     "cell_type": "code",
     "collapsed": false,
     "input": [
      "# Find max distance of all the files in the coords folder and put the results in distance.txt\n",
      "\n",
      "nof = 171\n",
      "max_distance = []\n",
      "for fno in range(1, nof+1):\n",
      "    filename = str(fno) + \".txt\"\n",
      "    f = open(\"000/Trajectory/coord/\" + filename, \"r\")\n",
      "    lat = []\n",
      "    lon = []\n",
      "\n",
      "    for i in f:\n",
      "        coord = i.split(\",\")\n",
      "        lat.append(float(coord[0]))\n",
      "        lon.append(float(coord[1]))\n",
      "    \n",
      "    f.close()\n",
      "    \n",
      "    i = 0\n",
      "    max_distance.append(0)\n",
      "    while i < len(lat) - 1:\n",
      "        R = 6371000\n",
      "        phi1 = math.radians(lat[i])\n",
      "        phi2 = math.radians(lat[i+1])\n",
      "        dphi = math.radians(lat[i+1] - lat[i])\n",
      "        dl   = math.radians(lon[i+1] - lon[i])\n",
      "        a = (math.sin(dphi/2)**2) + (math.cos(phi1) * math.cos(phi2) * math.sin(dl/2)**2)\n",
      "        c = 2 * math.atan2(math.sqrt(a), math.sqrt(1-a))\n",
      "        d = R * c\n",
      "        if d > max_distance[fno-1]:\n",
      "            max_distance[fno-1] = d\n",
      "        i += 1\n",
      "\n",
      "f = open(\"000/Trajectory/coord/distance.txt\", \"w\")\n",
      "fno = 0\n",
      "\n",
      "while fno < len(max_distance):\n",
      "    contents = str(fno+1) + \",\" + str(max_distance[fno]) + \"\\n\"\n",
      "    f.write(contents)\n",
      "    fno += 1\n",
      "    \n",
      "f.close()\n",
      "\n",
      "print(max(max_distance))"
     ],
     "language": "python",
     "metadata": {},
     "outputs": [
      {
       "output_type": "stream",
       "stream": "stdout",
       "text": [
        "1077944.2168640464\n"
       ]
      }
     ],
     "prompt_number": 115
    }
   ],
   "metadata": {}
  }
 ]
}