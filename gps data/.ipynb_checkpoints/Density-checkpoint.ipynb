{
 "metadata": {
  "name": "",
  "signature": "sha256:fc534b8a7e9ed7e63c3579f703528e41984ba9123e05c0a4da1898fb9bb1215b"
 },
 "nbformat": 3,
 "nbformat_minor": 0,
 "worksheets": []
}